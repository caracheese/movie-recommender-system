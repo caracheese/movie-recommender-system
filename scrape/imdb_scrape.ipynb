{
 "cells": [
  {
   "cell_type": "code",
   "execution_count": 12,
   "metadata": {},
   "outputs": [
    {
     "name": "stdout",
     "output_type": "stream",
     "text": [
      "200\n"
     ]
    }
   ],
   "source": [
    "# parse_top_250.py\n",
    "import requests\n",
    "import json\n",
    "\n",
    "USERNAME = \"jolie_dss_g1\"\n",
    "PASSWORD = \"B_NH6EBMV9hC6wC\"\n",
    "\n",
    "payload = {}\n",
    "with open(\"vnese_payload.json\") as f:\n",
    "    payload = json.load(f)\n",
    "\n",
    "response = requests.post(\n",
    "    url=\"https://realtime.oxylabs.io/v1/queries\",\n",
    "    json=payload,\n",
    "    auth=(USERNAME, PASSWORD),\n",
    ")\n",
    "\n",
    "print(response.status_code)"
   ]
  },
  {
   "cell_type": "code",
   "execution_count": 13,
   "metadata": {},
   "outputs": [],
   "source": [
    "with open(\"result.json\", \"w\") as f:\n",
    "    json.dump(response.json(),f, indent=4)"
   ]
  }
 ],
 "metadata": {
  "kernelspec": {
   "display_name": "base",
   "language": "python",
   "name": "python3"
  },
  "language_info": {
   "codemirror_mode": {
    "name": "ipython",
    "version": 3
   },
   "file_extension": ".py",
   "mimetype": "text/x-python",
   "name": "python",
   "nbconvert_exporter": "python",
   "pygments_lexer": "ipython3",
   "version": "3.11.5"
  }
 },
 "nbformat": 4,
 "nbformat_minor": 2
}
