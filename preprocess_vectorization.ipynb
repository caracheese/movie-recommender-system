{
 "cells": [
  {
   "cell_type": "markdown",
   "metadata": {},
   "source": [
    "## **Import data**"
   ]
  },
  {
   "cell_type": "code",
   "execution_count": 35,
   "metadata": {},
   "outputs": [],
   "source": [
    "import json\n",
    "import pandas as pd"
   ]
  },
  {
   "cell_type": "code",
   "execution_count": 36,
   "metadata": {},
   "outputs": [
    {
     "data": {
      "text/html": [
       "<div>\n",
       "<style scoped>\n",
       "    .dataframe tbody tr th:only-of-type {\n",
       "        vertical-align: middle;\n",
       "    }\n",
       "\n",
       "    .dataframe tbody tr th {\n",
       "        vertical-align: top;\n",
       "    }\n",
       "\n",
       "    .dataframe thead th {\n",
       "        text-align: right;\n",
       "    }\n",
       "</style>\n",
       "<table border=\"1\" class=\"dataframe\">\n",
       "  <thead>\n",
       "    <tr style=\"text-align: right;\">\n",
       "      <th></th>\n",
       "      <th>title</th>\n",
       "      <th>overview</th>\n",
       "    </tr>\n",
       "  </thead>\n",
       "  <tbody>\n",
       "    <tr>\n",
       "      <th>0</th>\n",
       "      <td>1. Inside the Yellow Cocoon Shell</td>\n",
       "      <td>A man returns to his hometown, where he's haun...</td>\n",
       "    </tr>\n",
       "    <tr>\n",
       "      <th>1</th>\n",
       "      <td>2. The Last Wife</td>\n",
       "      <td>In the midst of the Nguyen Dynasty, a reluctan...</td>\n",
       "    </tr>\n",
       "    <tr>\n",
       "      <th>2</th>\n",
       "      <td>3. Furies</td>\n",
       "      <td>Prequel to Furie (2019). Tells the story about...</td>\n",
       "    </tr>\n",
       "    <tr>\n",
       "      <th>3</th>\n",
       "      <td>4. Wolfoo and Friends</td>\n",
       "      <td>Wolfoo is a cute wolf living on a hill in a sm...</td>\n",
       "    </tr>\n",
       "    <tr>\n",
       "      <th>4</th>\n",
       "      <td>5. Cyclo</td>\n",
       "      <td>When a poor bicycle-taxi driver has his cyclo ...</td>\n",
       "    </tr>\n",
       "  </tbody>\n",
       "</table>\n",
       "</div>"
      ],
      "text/plain": [
       "                               title  \\\n",
       "0  1. Inside the Yellow Cocoon Shell   \n",
       "1                   2. The Last Wife   \n",
       "2                          3. Furies   \n",
       "3              4. Wolfoo and Friends   \n",
       "4                           5. Cyclo   \n",
       "\n",
       "                                            overview  \n",
       "0  A man returns to his hometown, where he's haun...  \n",
       "1  In the midst of the Nguyen Dynasty, a reluctan...  \n",
       "2  Prequel to Furie (2019). Tells the story about...  \n",
       "3  Wolfoo is a cute wolf living on a hill in a sm...  \n",
       "4  When a poor bicycle-taxi driver has his cyclo ...  "
      ]
     },
     "execution_count": 36,
     "metadata": {},
     "output_type": "execute_result"
    }
   ],
   "source": [
    "with open('scrape/result.json', 'r') as json_file:\n",
    "    data = json.load(json_file)\n",
    "movies_info = data[\"results\"][0][\"content\"][\"movies\"]\n",
    "df = pd.DataFrame(movies_info)\n",
    "df.head()"
   ]
  },
  {
   "cell_type": "code",
   "execution_count": 37,
   "metadata": {},
   "outputs": [
    {
     "data": {
      "text/plain": [
       "(50, 2)"
      ]
     },
     "execution_count": 37,
     "metadata": {},
     "output_type": "execute_result"
    }
   ],
   "source": [
    "df.shape"
   ]
  },
  {
   "cell_type": "markdown",
   "metadata": {},
   "source": [
    "## **Preprocessing**"
   ]
  },
  {
   "cell_type": "code",
   "execution_count": 38,
   "metadata": {},
   "outputs": [
    {
     "data": {
      "text/html": [
       "<div>\n",
       "<style scoped>\n",
       "    .dataframe tbody tr th:only-of-type {\n",
       "        vertical-align: middle;\n",
       "    }\n",
       "\n",
       "    .dataframe tbody tr th {\n",
       "        vertical-align: top;\n",
       "    }\n",
       "\n",
       "    .dataframe thead th {\n",
       "        text-align: right;\n",
       "    }\n",
       "</style>\n",
       "<table border=\"1\" class=\"dataframe\">\n",
       "  <thead>\n",
       "    <tr style=\"text-align: right;\">\n",
       "      <th></th>\n",
       "      <th>title</th>\n",
       "      <th>overview</th>\n",
       "    </tr>\n",
       "  </thead>\n",
       "  <tbody>\n",
       "    <tr>\n",
       "      <th>0</th>\n",
       "      <td>Inside the Yellow Cocoon Shell</td>\n",
       "      <td>A man returns to his hometown, where he's haun...</td>\n",
       "    </tr>\n",
       "    <tr>\n",
       "      <th>1</th>\n",
       "      <td>The Last Wife</td>\n",
       "      <td>In the midst of the Nguyen Dynasty, a reluctan...</td>\n",
       "    </tr>\n",
       "    <tr>\n",
       "      <th>2</th>\n",
       "      <td>Furies</td>\n",
       "      <td>Prequel to Furie (2019). Tells the story about...</td>\n",
       "    </tr>\n",
       "    <tr>\n",
       "      <th>3</th>\n",
       "      <td>Wolfoo and Friends</td>\n",
       "      <td>Wolfoo is a cute wolf living on a hill in a sm...</td>\n",
       "    </tr>\n",
       "    <tr>\n",
       "      <th>4</th>\n",
       "      <td>Cyclo</td>\n",
       "      <td>When a poor bicycle-taxi driver has his cyclo ...</td>\n",
       "    </tr>\n",
       "  </tbody>\n",
       "</table>\n",
       "</div>"
      ],
      "text/plain": [
       "                            title  \\\n",
       "0  Inside the Yellow Cocoon Shell   \n",
       "1                   The Last Wife   \n",
       "2                          Furies   \n",
       "3              Wolfoo and Friends   \n",
       "4                           Cyclo   \n",
       "\n",
       "                                            overview  \n",
       "0  A man returns to his hometown, where he's haun...  \n",
       "1  In the midst of the Nguyen Dynasty, a reluctan...  \n",
       "2  Prequel to Furie (2019). Tells the story about...  \n",
       "3  Wolfoo is a cute wolf living on a hill in a sm...  \n",
       "4  When a poor bicycle-taxi driver has his cyclo ...  "
      ]
     },
     "execution_count": 38,
     "metadata": {},
     "output_type": "execute_result"
    }
   ],
   "source": [
    "df['title'] = df['title'].str.replace(r'^\\d+\\.\\s', '', regex=True)\n",
    "df.head()"
   ]
  },
  {
   "cell_type": "code",
   "execution_count": 39,
   "metadata": {},
   "outputs": [
    {
     "data": {
      "text/plain": [
       "(47, 2)"
      ]
     },
     "execution_count": 39,
     "metadata": {},
     "output_type": "execute_result"
    }
   ],
   "source": [
    "df = df.dropna()\n",
    "df.shape"
   ]
  },
  {
   "cell_type": "code",
   "execution_count": 40,
   "metadata": {},
   "outputs": [
    {
     "data": {
      "text/html": [
       "<div>\n",
       "<style scoped>\n",
       "    .dataframe tbody tr th:only-of-type {\n",
       "        vertical-align: middle;\n",
       "    }\n",
       "\n",
       "    .dataframe tbody tr th {\n",
       "        vertical-align: top;\n",
       "    }\n",
       "\n",
       "    .dataframe thead th {\n",
       "        text-align: right;\n",
       "    }\n",
       "</style>\n",
       "<table border=\"1\" class=\"dataframe\">\n",
       "  <thead>\n",
       "    <tr style=\"text-align: right;\">\n",
       "      <th></th>\n",
       "      <th>title</th>\n",
       "      <th>overview</th>\n",
       "    </tr>\n",
       "  </thead>\n",
       "  <tbody>\n",
       "    <tr>\n",
       "      <th>0</th>\n",
       "      <td>Inside the Yellow Cocoon Shell</td>\n",
       "      <td>A man returns to his hometown, where he's haun...</td>\n",
       "    </tr>\n",
       "    <tr>\n",
       "      <th>1</th>\n",
       "      <td>The Last Wife</td>\n",
       "      <td>In the midst of the Nguyen Dynasty, a reluctan...</td>\n",
       "    </tr>\n",
       "    <tr>\n",
       "      <th>2</th>\n",
       "      <td>Furies</td>\n",
       "      <td>Prequel to Furie (2019). Tells the story about...</td>\n",
       "    </tr>\n",
       "    <tr>\n",
       "      <th>3</th>\n",
       "      <td>Wolfoo and Friends</td>\n",
       "      <td>Wolfoo is a cute wolf living on a hill in a sm...</td>\n",
       "    </tr>\n",
       "    <tr>\n",
       "      <th>4</th>\n",
       "      <td>Cyclo</td>\n",
       "      <td>When a poor bicycle-taxi driver has his cyclo ...</td>\n",
       "    </tr>\n",
       "    <tr>\n",
       "      <th>5</th>\n",
       "      <td>Bridge of Destiny</td>\n",
       "      <td>Cuong is an admirable man. He has a successful...</td>\n",
       "    </tr>\n",
       "    <tr>\n",
       "      <th>6</th>\n",
       "      <td>Song of the South</td>\n",
       "      <td>Song of the South (Dat Rung Phuong Nam) is bas...</td>\n",
       "    </tr>\n",
       "    <tr>\n",
       "      <th>7</th>\n",
       "      <td>Furie</td>\n",
       "      <td>When her daughter is kidnapped, a desperate ye...</td>\n",
       "    </tr>\n",
       "    <tr>\n",
       "      <th>8</th>\n",
       "      <td>Ngay Xua Ngay Xua</td>\n",
       "      <td>Once Upon a Time is the Vietnamese children's ...</td>\n",
       "    </tr>\n",
       "    <tr>\n",
       "      <th>9</th>\n",
       "      <td>Sister Sister</td>\n",
       "      <td>A late night radio host offers a room at her o...</td>\n",
       "    </tr>\n",
       "    <tr>\n",
       "      <th>10</th>\n",
       "      <td>The Vertical Ray of the Sun</td>\n",
       "      <td>With the brilliant Vietnamese summer as a sett...</td>\n",
       "    </tr>\n",
       "    <tr>\n",
       "      <th>11</th>\n",
       "      <td>Goodbye Mother</td>\n",
       "      <td>Nau Van returns home several years after stayi...</td>\n",
       "    </tr>\n",
       "    <tr>\n",
       "      <th>12</th>\n",
       "      <td>Em Va Trinh</td>\n",
       "      <td>Trinh Cong Son had many lovers walking through...</td>\n",
       "    </tr>\n",
       "    <tr>\n",
       "      <th>13</th>\n",
       "      <td>Cô Gái Tu Quá Khu</td>\n",
       "      <td>Famous celebrity with a dark past meets an old...</td>\n",
       "    </tr>\n",
       "    <tr>\n",
       "      <th>14</th>\n",
       "      <td>The Ancestral</td>\n",
       "      <td>A Vietnamese family moves into a centuries-old...</td>\n",
       "    </tr>\n",
       "    <tr>\n",
       "      <th>15</th>\n",
       "      <td>Taste</td>\n",
       "      <td>A Nigerian man moves in with four middle-aged ...</td>\n",
       "    </tr>\n",
       "    <tr>\n",
       "      <th>16</th>\n",
       "      <td>Kumanthong</td>\n",
       "      <td>The story about Vietnam's first serial killer.</td>\n",
       "    </tr>\n",
       "    <tr>\n",
       "      <th>17</th>\n",
       "      <td>Dreamy Eyes</td>\n",
       "      <td>The movie tells the one-sided love story of a ...</td>\n",
       "    </tr>\n",
       "    <tr>\n",
       "      <th>18</th>\n",
       "      <td>Children of the Mist</td>\n",
       "      <td>In the misty mountains of northern Vietnam, a ...</td>\n",
       "    </tr>\n",
       "    <tr>\n",
       "      <th>19</th>\n",
       "      <td>Lost in Paradise</td>\n",
       "      <td>Khoi, a naive twenty-year-old, travels to Ho C...</td>\n",
       "    </tr>\n",
       "    <tr>\n",
       "      <th>20</th>\n",
       "      <td>Nguoi Mat Troi</td>\n",
       "      <td>The film revolves around a familiar legend tha...</td>\n",
       "    </tr>\n",
       "    <tr>\n",
       "      <th>21</th>\n",
       "      <td>The Third Wife</td>\n",
       "      <td>In 19th century rural Vietnam, May is ready to...</td>\n",
       "    </tr>\n",
       "    <tr>\n",
       "      <th>22</th>\n",
       "      <td>Glorious Ashes</td>\n",
       "      <td>Relationships between three women and their pa...</td>\n",
       "    </tr>\n",
       "    <tr>\n",
       "      <th>23</th>\n",
       "      <td>Rom</td>\n",
       "      <td>Movie story revolves around the life, fate of ...</td>\n",
       "    </tr>\n",
       "    <tr>\n",
       "      <th>24</th>\n",
       "      <td>Nguoi Tình</td>\n",
       "      <td>A former lady of the night has a wealthy paint...</td>\n",
       "    </tr>\n",
       "    <tr>\n",
       "      <th>25</th>\n",
       "      <td>Co gai xau xi (The ugly girl)</td>\n",
       "      <td>Huyen Dieu is an intelligent, well-educated gi...</td>\n",
       "    </tr>\n",
       "    <tr>\n",
       "      <th>26</th>\n",
       "      <td>The Rebel</td>\n",
       "      <td>France employs local secret agents in Vietnam ...</td>\n",
       "    </tr>\n",
       "    <tr>\n",
       "      <th>27</th>\n",
       "      <td>Dem Toi Ruc Ro!</td>\n",
       "      <td>On the last night of their grandfather's funer...</td>\n",
       "    </tr>\n",
       "    <tr>\n",
       "      <th>28</th>\n",
       "      <td>Face Off 6: The Ticket of Destiny</td>\n",
       "      <td>A friend group bought a lottery ticket and won...</td>\n",
       "    </tr>\n",
       "    <tr>\n",
       "      <th>29</th>\n",
       "      <td>Flapping in the Middle of Nowhere</td>\n",
       "      <td>When young Hanoi couple, Tung and Huyen, disco...</td>\n",
       "    </tr>\n",
       "    <tr>\n",
       "      <th>31</th>\n",
       "      <td>Drama Queen</td>\n",
       "      <td>An Action-Comedy about a gay stuntman whose wi...</td>\n",
       "    </tr>\n",
       "    <tr>\n",
       "      <th>34</th>\n",
       "      <td>Three Seasons</td>\n",
       "      <td>Although the hearts and goals and desires are ...</td>\n",
       "    </tr>\n",
       "    <tr>\n",
       "      <th>35</th>\n",
       "      <td>In the Name of Love</td>\n",
       "      <td>In this dark love triangle that proceeds with ...</td>\n",
       "    </tr>\n",
       "    <tr>\n",
       "      <th>36</th>\n",
       "      <td>Yellow Flowers on the Green Grass</td>\n",
       "      <td>Set in the countryside village of Vietnam, Yel...</td>\n",
       "    </tr>\n",
       "    <tr>\n",
       "      <th>37</th>\n",
       "      <td>The Housemaid</td>\n",
       "      <td>When an orphaned Vietnamese girl is hired to b...</td>\n",
       "    </tr>\n",
       "    <tr>\n",
       "      <th>38</th>\n",
       "      <td>The Guardian</td>\n",
       "      <td>After the shocking suicide of a young pop star...</td>\n",
       "    </tr>\n",
       "    <tr>\n",
       "      <th>39</th>\n",
       "      <td>Chuyen Ma Gan Nhà</td>\n",
       "      <td>The film has dark, demonic colors with materia...</td>\n",
       "    </tr>\n",
       "    <tr>\n",
       "      <th>40</th>\n",
       "      <td>Once Upon a Time in Vietnam</td>\n",
       "      <td>Assigned to protect a small town in Vietnam, D...</td>\n",
       "    </tr>\n",
       "    <tr>\n",
       "      <th>41</th>\n",
       "      <td>Bad Blood</td>\n",
       "      <td>Lam, a notorious henchman, lives quietly in a ...</td>\n",
       "    </tr>\n",
       "    <tr>\n",
       "      <th>42</th>\n",
       "      <td>The Tailor</td>\n",
       "      <td>The re-enactment of the traditional dress (ao ...</td>\n",
       "    </tr>\n",
       "    <tr>\n",
       "      <th>43</th>\n",
       "      <td>Descendants of the Sun</td>\n",
       "      <td>His job to kill for his country, her to save l...</td>\n",
       "    </tr>\n",
       "    <tr>\n",
       "      <th>44</th>\n",
       "      <td>The House of No Man</td>\n",
       "      <td>Mrs. Nu (Le Giang) is a domineering matriarch ...</td>\n",
       "    </tr>\n",
       "    <tr>\n",
       "      <th>45</th>\n",
       "      <td>Bi, dung so!</td>\n",
       "      <td>In an old house in Hanoi, Bi, a 6-year-old chi...</td>\n",
       "    </tr>\n",
       "    <tr>\n",
       "      <th>46</th>\n",
       "      <td>Maika</td>\n",
       "      <td>After a meteor falls to earth, 8-year-old Hung...</td>\n",
       "    </tr>\n",
       "    <tr>\n",
       "      <th>47</th>\n",
       "      <td>Bitcoin Heist</td>\n",
       "      <td>To catch the world's most wanted thief, an Int...</td>\n",
       "    </tr>\n",
       "    <tr>\n",
       "      <th>48</th>\n",
       "      <td>Song lang</td>\n",
       "      <td>An unlikely bond forms between an underground ...</td>\n",
       "    </tr>\n",
       "    <tr>\n",
       "      <th>49</th>\n",
       "      <td>Sword of the Assassin</td>\n",
       "      <td>Nguyen Vu is the sole survivor of his family w...</td>\n",
       "    </tr>\n",
       "  </tbody>\n",
       "</table>\n",
       "</div>"
      ],
      "text/plain": [
       "                                title  \\\n",
       "0      Inside the Yellow Cocoon Shell   \n",
       "1                       The Last Wife   \n",
       "2                              Furies   \n",
       "3                  Wolfoo and Friends   \n",
       "4                               Cyclo   \n",
       "5                   Bridge of Destiny   \n",
       "6                   Song of the South   \n",
       "7                               Furie   \n",
       "8                   Ngay Xua Ngay Xua   \n",
       "9                       Sister Sister   \n",
       "10        The Vertical Ray of the Sun   \n",
       "11                     Goodbye Mother   \n",
       "12                        Em Va Trinh   \n",
       "13                  Cô Gái Tu Quá Khu   \n",
       "14                      The Ancestral   \n",
       "15                              Taste   \n",
       "16                         Kumanthong   \n",
       "17                        Dreamy Eyes   \n",
       "18               Children of the Mist   \n",
       "19                   Lost in Paradise   \n",
       "20                     Nguoi Mat Troi   \n",
       "21                     The Third Wife   \n",
       "22                     Glorious Ashes   \n",
       "23                                Rom   \n",
       "24                         Nguoi Tình   \n",
       "25      Co gai xau xi (The ugly girl)   \n",
       "26                          The Rebel   \n",
       "27                    Dem Toi Ruc Ro!   \n",
       "28  Face Off 6: The Ticket of Destiny   \n",
       "29  Flapping in the Middle of Nowhere   \n",
       "31                        Drama Queen   \n",
       "34                      Three Seasons   \n",
       "35                In the Name of Love   \n",
       "36  Yellow Flowers on the Green Grass   \n",
       "37                      The Housemaid   \n",
       "38                       The Guardian   \n",
       "39                  Chuyen Ma Gan Nhà   \n",
       "40        Once Upon a Time in Vietnam   \n",
       "41                          Bad Blood   \n",
       "42                         The Tailor   \n",
       "43             Descendants of the Sun   \n",
       "44                The House of No Man   \n",
       "45                       Bi, dung so!   \n",
       "46                              Maika   \n",
       "47                      Bitcoin Heist   \n",
       "48                          Song lang   \n",
       "49              Sword of the Assassin   \n",
       "\n",
       "                                             overview  \n",
       "0   A man returns to his hometown, where he's haun...  \n",
       "1   In the midst of the Nguyen Dynasty, a reluctan...  \n",
       "2   Prequel to Furie (2019). Tells the story about...  \n",
       "3   Wolfoo is a cute wolf living on a hill in a sm...  \n",
       "4   When a poor bicycle-taxi driver has his cyclo ...  \n",
       "5   Cuong is an admirable man. He has a successful...  \n",
       "6   Song of the South (Dat Rung Phuong Nam) is bas...  \n",
       "7   When her daughter is kidnapped, a desperate ye...  \n",
       "8   Once Upon a Time is the Vietnamese children's ...  \n",
       "9   A late night radio host offers a room at her o...  \n",
       "10  With the brilliant Vietnamese summer as a sett...  \n",
       "11  Nau Van returns home several years after stayi...  \n",
       "12  Trinh Cong Son had many lovers walking through...  \n",
       "13  Famous celebrity with a dark past meets an old...  \n",
       "14  A Vietnamese family moves into a centuries-old...  \n",
       "15  A Nigerian man moves in with four middle-aged ...  \n",
       "16     The story about Vietnam's first serial killer.  \n",
       "17  The movie tells the one-sided love story of a ...  \n",
       "18  In the misty mountains of northern Vietnam, a ...  \n",
       "19  Khoi, a naive twenty-year-old, travels to Ho C...  \n",
       "20  The film revolves around a familiar legend tha...  \n",
       "21  In 19th century rural Vietnam, May is ready to...  \n",
       "22  Relationships between three women and their pa...  \n",
       "23  Movie story revolves around the life, fate of ...  \n",
       "24  A former lady of the night has a wealthy paint...  \n",
       "25  Huyen Dieu is an intelligent, well-educated gi...  \n",
       "26  France employs local secret agents in Vietnam ...  \n",
       "27  On the last night of their grandfather's funer...  \n",
       "28  A friend group bought a lottery ticket and won...  \n",
       "29  When young Hanoi couple, Tung and Huyen, disco...  \n",
       "31  An Action-Comedy about a gay stuntman whose wi...  \n",
       "34  Although the hearts and goals and desires are ...  \n",
       "35  In this dark love triangle that proceeds with ...  \n",
       "36  Set in the countryside village of Vietnam, Yel...  \n",
       "37  When an orphaned Vietnamese girl is hired to b...  \n",
       "38  After the shocking suicide of a young pop star...  \n",
       "39  The film has dark, demonic colors with materia...  \n",
       "40  Assigned to protect a small town in Vietnam, D...  \n",
       "41  Lam, a notorious henchman, lives quietly in a ...  \n",
       "42  The re-enactment of the traditional dress (ao ...  \n",
       "43  His job to kill for his country, her to save l...  \n",
       "44  Mrs. Nu (Le Giang) is a domineering matriarch ...  \n",
       "45  In an old house in Hanoi, Bi, a 6-year-old chi...  \n",
       "46  After a meteor falls to earth, 8-year-old Hung...  \n",
       "47  To catch the world's most wanted thief, an Int...  \n",
       "48  An unlikely bond forms between an underground ...  \n",
       "49  Nguyen Vu is the sole survivor of his family w...  "
      ]
     },
     "execution_count": 40,
     "metadata": {},
     "output_type": "execute_result"
    }
   ],
   "source": [
    "df"
   ]
  },
  {
   "cell_type": "markdown",
   "metadata": {},
   "source": [
    "## **Vectorization**"
   ]
  },
  {
   "cell_type": "code",
   "execution_count": 41,
   "metadata": {},
   "outputs": [],
   "source": [
    "from sklearn.feature_extraction.text import CountVectorizer\n",
    "cv = CountVectorizer(max_features=5000,stop_words='english')"
   ]
  },
  {
   "cell_type": "code",
   "execution_count": 42,
   "metadata": {},
   "outputs": [],
   "source": [
    "vector = cv.fit_transform(df['overview']).toarray()"
   ]
  },
  {
   "cell_type": "code",
   "execution_count": 43,
   "metadata": {},
   "outputs": [
    {
     "data": {
      "text/plain": [
       "(47, 780)"
      ]
     },
     "execution_count": 43,
     "metadata": {},
     "output_type": "execute_result"
    }
   ],
   "source": [
    "vector.shape"
   ]
  },
  {
   "cell_type": "markdown",
   "metadata": {},
   "source": [
    "## **Main Function**"
   ]
  },
  {
   "cell_type": "code",
   "execution_count": 44,
   "metadata": {},
   "outputs": [],
   "source": [
    "from sklearn.metrics.pairwise import cosine_similarity"
   ]
  },
  {
   "cell_type": "code",
   "execution_count": 45,
   "metadata": {},
   "outputs": [],
   "source": [
    "similarity = cosine_similarity(vector)"
   ]
  },
  {
   "cell_type": "code",
   "execution_count": 46,
   "metadata": {},
   "outputs": [
    {
     "data": {
      "text/plain": [
       "array([[1.        , 0.        , 0.        , ..., 0.        , 0.        ,\n",
       "        0.        ],\n",
       "       [0.        , 1.        , 0.08908708, ..., 0.        , 0.        ,\n",
       "        0.03779645],\n",
       "       [0.        , 0.08908708, 1.        , ..., 0.        , 0.06299408,\n",
       "        0.        ],\n",
       "       ...,\n",
       "       [0.        , 0.        , 0.        , ..., 1.        , 0.        ,\n",
       "        0.        ],\n",
       "       [0.        , 0.        , 0.06299408, ..., 0.        , 1.        ,\n",
       "        0.        ],\n",
       "       [0.        , 0.03779645, 0.        , ..., 0.        , 0.        ,\n",
       "        1.        ]])"
      ]
     },
     "execution_count": 46,
     "metadata": {},
     "output_type": "execute_result"
    }
   ],
   "source": [
    "similarity"
   ]
  },
  {
   "cell_type": "code",
   "execution_count": 47,
   "metadata": {},
   "outputs": [
    {
     "data": {
      "text/plain": [
       "0"
      ]
     },
     "execution_count": 47,
     "metadata": {},
     "output_type": "execute_result"
    }
   ],
   "source": [
    "df[df['title'] == \"Inside the Yellow Cocoon Shell\"].index[0]"
   ]
  },
  {
   "cell_type": "code",
   "execution_count": 48,
   "metadata": {},
   "outputs": [],
   "source": [
    "def recommend(movie):\n",
    "    index = df[df['title'] == movie].index[0]\n",
    "    distances = sorted(list(enumerate(similarity[index])),reverse=True,key = lambda x: x[1])\n",
    "    for i in distances[1:6]:\n",
    "        print(df.iloc[i[0]].title)"
   ]
  },
  {
   "cell_type": "code",
   "execution_count": 50,
   "metadata": {},
   "outputs": [
    {
     "name": "stdout",
     "output_type": "stream",
     "text": [
      "Goodbye Mother\n",
      "Bridge of Destiny\n",
      "Three Seasons\n",
      "Taste\n",
      "Dreamy Eyes\n"
     ]
    }
   ],
   "source": [
    "recommend(\"Inside the Yellow Cocoon Shell\")"
   ]
  },
  {
   "cell_type": "markdown",
   "metadata": {},
   "source": [
    "## **Export**"
   ]
  },
  {
   "cell_type": "code",
   "execution_count": 51,
   "metadata": {},
   "outputs": [],
   "source": [
    "import pickle"
   ]
  },
  {
   "cell_type": "code",
   "execution_count": 52,
   "metadata": {},
   "outputs": [],
   "source": [
    "pickle.dump(df,open('movie_list.pkl','wb'))\n",
    "pickle.dump(similarity,open('similarity.pkl','wb'))"
   ]
  }
 ],
 "metadata": {
  "kernelspec": {
   "display_name": "base",
   "language": "python",
   "name": "python3"
  },
  "language_info": {
   "codemirror_mode": {
    "name": "ipython",
    "version": 3
   },
   "file_extension": ".py",
   "mimetype": "text/x-python",
   "name": "python",
   "nbconvert_exporter": "python",
   "pygments_lexer": "ipython3",
   "version": "3.11.5"
  }
 },
 "nbformat": 4,
 "nbformat_minor": 2
}
